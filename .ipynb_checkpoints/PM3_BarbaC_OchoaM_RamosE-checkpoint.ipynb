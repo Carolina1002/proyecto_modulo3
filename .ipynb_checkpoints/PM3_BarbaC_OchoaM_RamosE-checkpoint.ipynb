{
 "cells": [
  {
   "cell_type": "markdown",
   "metadata": {},
   "source": [
    "# Ecuaciones de Lotka-Volterra: Modelo Presa- Depredador"
   ]
  },
  {
   "cell_type": "markdown",
   "metadata": {},
   "source": [
    "Nuestro proyecto consiste en realizar un modeo presa-depredaror, en este caso sería de zorros-conejos, donde podamos observar como conforme decrece el numero de presas, la población de depredadores decrece en algun momento como resultado de un menos suministro de alimeno, y junto con un decrecimiento en el numero de depredadores hay un incremento en el numero de presas; esto a su vez va a dar lugar a un mayor numero de depredadores, que en una última instancia origina otro decrecimiento en el numero de presas. "
   ]
  },
  {
   "cell_type": "markdown",
   "metadata": {},
   "source": [
    "# Objetivos"
   ]
  },
  {
   "cell_type": "markdown",
   "metadata": {},
   "source": [
    "## Objetivo General "
   ]
  },
  {
   "cell_type": "markdown",
   "metadata": {},
   "source": [
    "Relizar el modelo presa-depredador mostrando como queda en un final la cadena alimenticia"
   ]
  },
  {
   "cell_type": "markdown",
   "metadata": {},
   "source": [
    "### Objetivos específicos"
   ]
  },
  {
   "cell_type": "markdown",
   "metadata": {},
   "source": [
    "- Resolver la ecuación diferencial\n",
    "- Graficar la población de presa-depredador\n",
    "- Analizar como queda la cadena alimenticia"
   ]
  },
  {
   "cell_type": "markdown",
   "metadata": {},
   "source": []
  },
  {
   "cell_type": "markdown",
   "metadata": {},
   "source": []
  },
  {
   "cell_type": "code",
   "execution_count": null,
   "metadata": {},
   "outputs": [],
   "source": []
  },
  {
   "cell_type": "code",
   "execution_count": null,
   "metadata": {},
   "outputs": [],
   "source": []
  }
 ],
 "metadata": {
  "kernelspec": {
   "display_name": "Python 3",
   "language": "python",
   "name": "python3"
  },
  "language_info": {
   "codemirror_mode": {
    "name": "ipython",
    "version": 3
   },
   "file_extension": ".py",
   "mimetype": "text/x-python",
   "name": "python",
   "nbconvert_exporter": "python",
   "pygments_lexer": "ipython3",
   "version": "3.7.1"
  }
 },
 "nbformat": 4,
 "nbformat_minor": 2
}
